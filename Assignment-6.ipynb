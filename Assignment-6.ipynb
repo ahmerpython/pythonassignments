{
 "cells": [
  {
   "cell_type": "code",
   "execution_count": 4,
   "metadata": {},
   "outputs": [
    {
     "name": "stdout",
     "output_type": "stream",
     "text": [
      "\n",
      "Define Oject Oriented Programming:\n",
      "----------------------------------\n",
      "\n",
      "Object Oriented Programming (OOP) is a programming langauge in which different objects and their components are reusable and they can share different properties accross the application.\n",
      "There are four major concepts of OOP;\n",
      "\n",
      "1. Encapsulation\n",
      "2. Abstraction\n",
      "3. Inheritance\n",
      "4. Polymorphism\n",
      "\n"
     ]
    }
   ],
   "source": [
    "# Question No. 1 - [Answer]\n",
    "\n",
    "print(\n",
    "'''\n",
    "Define Oject Oriented Programming:\n",
    "----------------------------------\n",
    "\n",
    "Object Oriented Programming (OOP) is a programming langauge in which different objects and their components are reusable and they can share different properties accross the application.\n",
    "There are four major concepts of OOP;\n",
    "\n",
    "1. Encapsulation\n",
    "2. Abstraction\n",
    "3. Inheritance\n",
    "4. Polymorphism\n",
    "'''\n",
    ")"
   ]
  },
  {
   "cell_type": "code",
   "execution_count": 5,
   "metadata": {},
   "outputs": [
    {
     "name": "stdout",
     "output_type": "stream",
     "text": [
      "\n",
      "Benefits of Oject Oriented Programming:\n",
      "----------------------------------\n",
      "\n",
      "There are many benefits of OOP, some of them are;\n",
      "\n",
      "1. Management in code.\n",
      "2. Real world concept.\n",
      "3. We can secure different methods and properties.\n",
      "4. Resuability of the code.\n",
      "\n"
     ]
    }
   ],
   "source": [
    "# Question No. 2 - [Answer]\n",
    "\n",
    "print(\n",
    "'''\n",
    "Benefits of Oject Oriented Programming:\n",
    "----------------------------------\n",
    "\n",
    "There are many benefits of OOP, some of them are;\n",
    "\n",
    "1. Management in code.\n",
    "2. Real world concept.\n",
    "3. We can secure different methods and properties.\n",
    "4. Resuability of the code.\n",
    "'''\n",
    ")"
   ]
  },
  {
   "cell_type": "code",
   "execution_count": 6,
   "metadata": {},
   "outputs": [
    {
     "name": "stdout",
     "output_type": "stream",
     "text": [
      "\n",
      "Function and Method:\n",
      "----------------------------------\n",
      "Function and Method are two same thing but if the function is used inside Classes are called Methods and the functions used in procedural programming is called Functions.\n",
      "\n",
      "\n"
     ]
    }
   ],
   "source": [
    "# Question No. 3 - [Answer]\n",
    "\n",
    "print(\n",
    "'''\n",
    "Function and Method:\n",
    "----------------------------------\n",
    "Function and Method are two same thing but if the function is used inside Classes are called Methods and the functions used in procedural programming is called Functions.\n",
    "\n",
    "'''\n",
    ")"
   ]
  },
  {
   "cell_type": "code",
   "execution_count": 7,
   "metadata": {},
   "outputs": [
    {
     "name": "stdout",
     "output_type": "stream",
     "text": [
      "\n",
      "Class:\n",
      "----------------------------------\n",
      "In OOP class is a blueprint for creating objects, which provides initial data such as properties/variables and functions/methods. When we create a Class it does not exist in the system memory, unless we initiate it.\n",
      "\n",
      "Object:\n",
      "----------------------------------\n",
      "Object can be anything derived from different Classes. From single Class we can instantiate different objects with different set of properties. Once an object created from Class, it occupies space on memory. and thus we can use its methods and proerties accordingly.\n",
      "\n",
      "Attribute:\n",
      "----------------------------------\n",
      "Attributes are the properties/data which are stored in the Class.\n",
      "\n",
      "Behavior:\n",
      "----------------------------------\n",
      "The functionality of the object is called Behavior.\n",
      "\n"
     ]
    }
   ],
   "source": [
    "# Question No. 4 - [Answer]\n",
    "\n",
    "print(\n",
    "'''\n",
    "Class:\n",
    "----------------------------------\n",
    "In OOP class is a blueprint for creating objects, which provides initial data such as properties/variables and functions/methods. When we create a Class it does not exist in the system memory, unless we initiate it.\n",
    "\n",
    "Object:\n",
    "----------------------------------\n",
    "Object can be anything derived from different Classes. From single Class we can instantiate different objects with different set of properties. Once an object created from Class, it occupies space on memory. and thus we can use its methods and proerties accordingly.\n",
    "\n",
    "Attribute:\n",
    "----------------------------------\n",
    "Attributes are the properties/data which are stored in the Class.\n",
    "\n",
    "Behavior:\n",
    "----------------------------------\n",
    "The functionality of the object is called Behavior.\n",
    "'''\n",
    ")"
   ]
  },
  {
   "cell_type": "code",
   "execution_count": 11,
   "metadata": {},
   "outputs": [
    {
     "name": "stdout",
     "output_type": "stream",
     "text": [
      "Car 1: Model: 1995\n",
      "Car 2: Name: Margalla\n",
      "Car 3: Color: White\n"
     ]
    }
   ],
   "source": [
    "# Question No. 5 - [Answer]\n",
    "\n",
    "class Car():\n",
    "    def __init__(self, model, name, color, doors, tyres):\n",
    "        self.model = model\n",
    "        self.name = name\n",
    "        self.color = color\n",
    "        self.doors = doors\n",
    "        self.tyres = tyres\n",
    "    \n",
    "    def setDoors(self, doors):\n",
    "        self.doors = doors\n",
    "        \n",
    "    def getDoors(self):\n",
    "        return self.doors\n",
    "    \n",
    "    def setTyres(self, tyres):\n",
    "        self.tyres = tyres\n",
    "        \n",
    "    def getTyres(self):\n",
    "        return self.tyres\n",
    "    \n",
    "car1 = Car('1995', 'Margalla', 'White', '4', '4')\n",
    "print(\"Car 1: Model: {}\".format(car1.model));\n",
    "\n",
    "car2 = Car('2018', 'Toyota GLI', 'Silver', '4', '4')\n",
    "print(\"Car 2: Name: {}\".format(car1.name));\n",
    "\n",
    "car3 = Car('2020', 'Toyota XLI', 'Golden', '4', '4')\n",
    "print(\"Car 3: Color: {}\".format(car1.color));\n",
    "        "
   ]
  },
  {
   "cell_type": "code",
   "execution_count": null,
   "metadata": {},
   "outputs": [],
   "source": []
  }
 ],
 "metadata": {
  "kernelspec": {
   "display_name": "Python 3",
   "language": "python",
   "name": "python3"
  },
  "language_info": {
   "codemirror_mode": {
    "name": "ipython",
    "version": 3
   },
   "file_extension": ".py",
   "mimetype": "text/x-python",
   "name": "python",
   "nbconvert_exporter": "python",
   "pygments_lexer": "ipython3",
   "version": "3.7.4"
  }
 },
 "nbformat": 4,
 "nbformat_minor": 2
}
