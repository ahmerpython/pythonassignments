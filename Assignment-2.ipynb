{
 "cells": [
  {
   "cell_type": "code",
   "execution_count": 2,
   "metadata": {},
   "outputs": [
    {
     "name": "stdout",
     "output_type": "stream",
     "text": [
      "Enter obtained marks for Urdu paper: 'In between 0 - 20' 23\n",
      "Enter obtained marks for English paper: 'In between 0 - 20' 23\n",
      "Enter obtained marks for Pashto paper: 'In between 0 - 20' 23\n",
      "Enter obtained marks for Arabic paper: 'In between 0 - 20' 23\n",
      "Enter obtained marks for Hindi paper: 'In between 0 - 20' 23\n",
      "Invalid input found. Each paper obtained marks should be in range of 0 to 20\n"
     ]
    }
   ],
   "source": [
    "urdu = int(input(\"Enter obtained marks for Urdu paper: 'In between 0 - 20' \"))\n",
    "english = int(input(\"Enter obtained marks for English paper: 'In between 0 - 20' \"))\n",
    "pashto = int(input(\"Enter obtained marks for Pashto paper: 'In between 0 - 20' \"))\n",
    "arabic = int(input(\"Enter obtained marks for Arabic paper: 'In between 0 - 20' \"))\n",
    "hindi = int(input(\"Enter obtained marks for Hindi paper: 'In between 0 - 20' \"))\n",
    "\n",
    "totat_marks = urdu + english + pashto + arabic + hindi\n",
    "\n",
    "if totat_marks >= 80 and totat_marks <= 100:\n",
    "    print(\"A+ Grade\")\n",
    "elif totat_marks >= 70 and totat_marks < 80:\n",
    "    print(\"A Grade\")\n",
    "elif totat_marks >= 60 and totat_marks < 70:\n",
    "    print(\"B Grade\")\n",
    "elif totat_marks >= 50 and totat_marks < 60:\n",
    "    print(\"C Grade\")\n",
    "elif totat_marks >= 0 and totat_marks < 50:\n",
    "    print(\"Sorry! You're failed\")\n",
    "else:\n",
    "    print(\"Invalid input found. Each paper obtained marks should be in range of 0 to 20\")"
   ]
  },
  {
   "cell_type": "code",
   "execution_count": 12,
   "metadata": {},
   "outputs": [
    {
     "name": "stdout",
     "output_type": "stream",
     "text": [
      "Enter a number: .02\n",
      "The number is Odd\n"
     ]
    }
   ],
   "source": [
    "a = float(input(\"Enter a number: \"))\n",
    "\n",
    "if a%2 == 0:\n",
    "    print('The number is Even')\n",
    "else:\n",
    "    print('The number is Odd')"
   ]
  },
  {
   "cell_type": "code",
   "execution_count": 13,
   "metadata": {},
   "outputs": [
    {
     "name": "stdout",
     "output_type": "stream",
     "text": [
      "6\n"
     ]
    }
   ],
   "source": [
    "languages = ['Arabic', 'English', 'Urdu', 'Hindi', 'Pashto', 'Sindhi']\n",
    "print(len(languages))"
   ]
  },
  {
   "cell_type": "code",
   "execution_count": 17,
   "metadata": {},
   "outputs": [
    {
     "name": "stdout",
     "output_type": "stream",
     "text": [
      "16\n"
     ]
    }
   ],
   "source": [
    "numbers = [1, 2, 3, 4, 5]\n",
    "\n",
    "x_sum = 0;\n",
    "\n",
    "for number in numbers:\n",
    "    x_sum += number   # or x_sum = x_sum + number\n",
    "    \n",
    "print(x_sum)"
   ]
  },
  {
   "cell_type": "code",
   "execution_count": 20,
   "metadata": {},
   "outputs": [
    {
     "name": "stdout",
     "output_type": "stream",
     "text": [
      "106\n"
     ]
    }
   ],
   "source": [
    "numbers = [90, 100, 106, 101, 45]\n",
    "\n",
    "largest_number = 0;\n",
    "\n",
    "for number in numbers:\n",
    "    if number > largest_number:\n",
    "        largest_number = number\n",
    "    \n",
    "print(largest_number)"
   ]
  },
  {
   "cell_type": "code",
   "execution_count": 21,
   "metadata": {},
   "outputs": [
    {
     "name": "stdout",
     "output_type": "stream",
     "text": [
      "1\n",
      "1\n",
      "2\n",
      "3\n"
     ]
    }
   ],
   "source": [
    "a = [1, 1, 2, 3, 5, 8, 13, 21, 34, 55, 89]\n",
    "\n",
    "for x in a:\n",
    "    if x < 5:\n",
    "        print(x)"
   ]
  },
  {
   "cell_type": "code",
   "execution_count": null,
   "metadata": {},
   "outputs": [],
   "source": []
  }
 ],
 "metadata": {
  "kernelspec": {
   "display_name": "Python 3",
   "language": "python",
   "name": "python3"
  },
  "language_info": {
   "codemirror_mode": {
    "name": "ipython",
    "version": 3
   },
   "file_extension": ".py",
   "mimetype": "text/x-python",
   "name": "python",
   "nbconvert_exporter": "python",
   "pygments_lexer": "ipython3",
   "version": "3.7.4"
  }
 },
 "nbformat": 4,
 "nbformat_minor": 2
}
