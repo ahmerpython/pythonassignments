{
 "cells": [
  {
   "cell_type": "code",
   "execution_count": 8,
   "metadata": {
    "scrolled": true
   },
   "outputs": [
    {
     "name": "stdout",
     "output_type": "stream",
     "text": [
      "Input a value1: 4\n",
      "Input a value2: 5\n",
      "Input an operator**\n",
      "Result:  1024\n"
     ]
    }
   ],
   "source": [
    "# Question No. 1 - [Answer]\n",
    "\n",
    "value1 = int(input(\"Input a value1: \"))\n",
    "value2 = int(input(\"Input a value2: \"))\n",
    "operator = input(\"Input an operator: \")\n",
    "\n",
    "result = \"\"\n",
    "\n",
    "if operator == \"+\":\n",
    "    result = value1 + value2\n",
    "elif operator == \"-\":\n",
    "    result = value1 - value2\n",
    "elif operator == \"*\":\n",
    "    result = value1 * value2\n",
    "elif operator == \"/\":\n",
    "    result = value1 / value2\n",
    "elif operator == \"**\":\n",
    "    result = value1 ** value2\n",
    "else:\n",
    "    result = \"Input invalid operator, valid operators are +,-,*,/ and **\"\n",
    "\n",
    "print(\"Result: \", result)"
   ]
  },
  {
   "cell_type": "code",
   "execution_count": 11,
   "metadata": {},
   "outputs": [
    {
     "name": "stdout",
     "output_type": "stream",
     "text": [
      "Numeric values:  [92, 123]\n"
     ]
    }
   ],
   "source": [
    "# Question No. 2 - [Answer]\n",
    "\n",
    "items = ['saylani', 92, '202', 93.32, 123, 'karachi']\n",
    "\n",
    "numeric_values = []\n",
    "\n",
    "for item in items:\n",
    "    if isinstance(item, (int)):\n",
    "        numeric_values.append(item)\n",
    "        \n",
    "print(\"Numeric values: \", numeric_values)"
   ]
  },
  {
   "cell_type": "code",
   "execution_count": 14,
   "metadata": {},
   "outputs": [
    {
     "name": "stdout",
     "output_type": "stream",
     "text": [
      "This is the initial Car dictionary {'head_lights': 2, 'doors': 4, 'tyres': 4}\n",
      "Add a color key value: BLUE\n",
      "This is after adding new key {'head_lights': 2, 'doors': 4, 'tyres': 4, 'color': 'BLUE'}\n"
     ]
    }
   ],
   "source": [
    "# Question No. 3 - [Answer]\n",
    "\n",
    "car = {\n",
    "    \"head_lights\": 2,\n",
    "    \"doors\": 4,\n",
    "    \"tyres\": 4\n",
    "}\n",
    "\n",
    "print(\"This is the initial Car dictionary\", car)\n",
    "\n",
    "additional_key = input(\"Add a color key value: \")\n",
    "\n",
    "car[\"color\"] = additional_key\n",
    "\n",
    "print(\"This is after adding new key\", car)"
   ]
  },
  {
   "cell_type": "code",
   "execution_count": 15,
   "metadata": {},
   "outputs": [
    {
     "name": "stdout",
     "output_type": "stream",
     "text": [
      "Sum of all the numeric values in the Car dictionary:  10\n"
     ]
    }
   ],
   "source": [
    "# Question No. 4 - [Answer]\n",
    "\n",
    "car = {\n",
    "    \"company\": \"Toyota\",\n",
    "    \"head_lights\": 2,\n",
    "    \"doors\": 4,\n",
    "    \"tyres\": 4,\n",
    "    \"color\": \"Golden\",\n",
    "    \n",
    "}\n",
    "\n",
    "result = 0\n",
    "\n",
    "for x in car.values():\n",
    "    if isinstance(x, (int)):\n",
    "        result += x\n",
    "        \n",
    "print(\"Sum of all the numeric values in the Car dictionary: \", result)"
   ]
  },
  {
   "cell_type": "code",
   "execution_count": 26,
   "metadata": {},
   "outputs": [
    {
     "name": "stdout",
     "output_type": "stream",
     "text": [
      "Duplicate values in the list are: [2, 1, 6]\n"
     ]
    }
   ],
   "source": [
    "# Question No. 5 - [Answer]\n",
    "\n",
    "numbers = [1,2,3,4,5,6,2,1,6,11,20]\n",
    "unique = []\n",
    "duplicates = [];\n",
    "\n",
    "for number in numbers:\n",
    "    if number in unique:\n",
    "        duplicates.append(number)\n",
    "    else:\n",
    "        unique.append(number)\n",
    "        \n",
    "print(\"Duplicate values in the list are:\", duplicates)\n"
   ]
  },
  {
   "cell_type": "code",
   "execution_count": 31,
   "metadata": {},
   "outputs": [
    {
     "name": "stdout",
     "output_type": "stream",
     "text": [
      "Input the key to check: color\n",
      "The key 'color' already exist in the dictionary\n"
     ]
    }
   ],
   "source": [
    "# Question No. 6 - [Answer]\n",
    "\n",
    "car = {\n",
    "    \"company\": \"Toyota\",\n",
    "    \"head_lights\": 2,\n",
    "    \"doors\": 4,\n",
    "    \"tyres\": 4,\n",
    "    \"color\": \"Golden\",\n",
    "    \n",
    "}\n",
    "\n",
    "newkey = input(\"Input the key to check: \")\n",
    "\n",
    "flag = 0\n",
    "\n",
    "for key, value in car.items():\n",
    "    if key == newkey:\n",
    "        flag = 1\n",
    "\n",
    "if flag == 1:\n",
    "    print(\"The key '\" + newkey + \"' already exist in the dictionary\")\n",
    "else:\n",
    "    print(\"The key '\" + newkey + \"' is not exist in the dictionary\")"
   ]
  },
  {
   "cell_type": "code",
   "execution_count": null,
   "metadata": {},
   "outputs": [],
   "source": []
  }
 ],
 "metadata": {
  "kernelspec": {
   "display_name": "Python 3",
   "language": "python",
   "name": "python3"
  },
  "language_info": {
   "codemirror_mode": {
    "name": "ipython",
    "version": 3
   },
   "file_extension": ".py",
   "mimetype": "text/x-python",
   "name": "python",
   "nbconvert_exporter": "python",
   "pygments_lexer": "ipython3",
   "version": "3.7.4"
  }
 },
 "nbformat": 4,
 "nbformat_minor": 2
}
